{
 "cells": [
  {
   "cell_type": "code",
   "execution_count": 4,
   "metadata": {
    "colab": {
     "autoexec": {
      "startup": false,
      "wait_interval": 0
     },
     "base_uri": "https://localhost:8080/",
     "height": 105
    },
    "colab_type": "code",
    "executionInfo": {
     "elapsed": 21322,
     "status": "ok",
     "timestamp": 1525423635453,
     "user": {
      "displayName": "Zeki Kuş",
      "photoUrl": "https://lh3.googleusercontent.com/a/default-user=s128",
      "userId": "113800785453624523681"
     },
     "user_tz": -180
    },
    "id": "AgiJHFFuVESZ",
    "outputId": "f8a23e44-bbe6-479b-db66-73059419a2cc"
   },
   "outputs": [
    {
     "name": "stdout",
     "output_type": "stream",
     "text": [
      "Please, open the following URL in a web browser: https://accounts.google.com/o/oauth2/auth?client_id=32555940559.apps.googleusercontent.com&redirect_uri=urn%3Aietf%3Awg%3Aoauth%3A2.0%3Aoob&scope=https%3A%2F%2Fwww.googleapis.com%2Fauth%2Fdrive&response_type=code&access_type=offline&approval_prompt=force\r\n",
      "··········\n",
      "Please, open the following URL in a web browser: https://accounts.google.com/o/oauth2/auth?client_id=32555940559.apps.googleusercontent.com&redirect_uri=urn%3Aietf%3Awg%3Aoauth%3A2.0%3Aoob&scope=https%3A%2F%2Fwww.googleapis.com%2Fauth%2Fdrive&response_type=code&access_type=offline&approval_prompt=force\n",
      "Please enter the verification code: Access token retrieved correctly.\n"
     ]
    }
   ],
   "source": [
    "!apt-get install -y -qq software-properties-common python-software-properties module-init-tools\n",
    "!add-apt-repository -y ppa:alessandro-strada/ppa 2>&1 > /dev/null\n",
    "!apt-get update -qq 2>&1 > /dev/null\n",
    "!apt-get -y install -qq google-drive-ocamlfuse fuse\n",
    "from google.colab import auth\n",
    "auth.authenticate_user()\n",
    "from oauth2client.client import GoogleCredentials\n",
    "creds = GoogleCredentials.get_application_default()\n",
    "import getpass\n",
    "!google-drive-ocamlfuse -headless -id={creds.client_id} -secret={creds.client_secret} < /dev/null 2>&1 | grep URL\n",
    "vcode = getpass.getpass()\n",
    "!echo {vcode} | google-drive-ocamlfuse -headless -id={creds.client_id} -secret={creds.client_secret}"
   ]
  },
  {
   "cell_type": "code",
   "execution_count": 14,
   "metadata": {
    "colab": {
     "autoexec": {
      "startup": false,
      "wait_interval": 0
     },
     "base_uri": "https://localhost:8080/",
     "height": 51
    },
    "colab_type": "code",
    "executionInfo": {
     "elapsed": 3736,
     "status": "ok",
     "timestamp": 1525425651220,
     "user": {
      "displayName": "Zeki Kuş",
      "photoUrl": "https://lh3.googleusercontent.com/a/default-user=s128",
      "userId": "113800785453624523681"
     },
     "user_tz": -180
    },
    "id": "72JEq2_dVgW6",
    "outputId": "5115f34d-d904-4bea-9474-05a3a4a74194"
   },
   "outputs": [
    {
     "name": "stdout",
     "output_type": "stream",
     "text": [
      "fuse: mountpoint is not empty\r\n",
      "fuse: if you are sure this is safe, use the 'nonempty' mount option\r\n"
     ]
    }
   ],
   "source": [
    "!mkdir -p drive\n",
    "!google-drive-ocamlfuse drive"
   ]
  },
  {
   "cell_type": "markdown",
   "metadata": {},
   "source": [
    "## 1 - Import Libraries\n",
    "\n",
    "Veri setinin elde edilmesi için keras kütüphanesi,\n",
    "\n",
    "Matematiksel işlemler ve matrislerin düzenlenmesi için numpy kütüphanesi,\n",
    "\n",
    "Konvolüsyonel sinir ağının oluşturulması ve eğitilmesi için tensorflow kütüphanesi import edildi."
   ]
  },
  {
   "cell_type": "code",
   "execution_count": 1,
   "metadata": {
    "colab": {
     "autoexec": {
      "startup": false,
      "wait_interval": 0
     }
    },
    "colab_type": "code",
    "id": "Vq0OhfPLDVIq"
   },
   "outputs": [
    {
     "name": "stderr",
     "output_type": "stream",
     "text": [
      "/home/zekikus/anaconda3/lib/python3.6/site-packages/h5py/__init__.py:36: FutureWarning: Conversion of the second argument of issubdtype from `float` to `np.floating` is deprecated. In future, it will be treated as `np.float64 == np.dtype(float).type`.\n",
      "  from ._conv import register_converters as _register_converters\n",
      "Using TensorFlow backend.\n"
     ]
    }
   ],
   "source": [
    "import numpy as np\n",
    "import pandas as pd\n",
    "import tensorflow as tf\n",
    "from sklearn.model_selection import train_test_split\n",
    "from keras.utils import to_categorical\n",
    "import matplotlib.pyplot as plt"
   ]
  },
  {
   "cell_type": "markdown",
   "metadata": {},
   "source": [
    "## 2 - Data Preprocessing\n",
    "\n",
    "Verinin model tarafından işlenebilecek hale getirilmesi için düzenlenmesi gerekir. \n",
    "\n",
    "- İstenen Girdi Formatı:\n",
    "[Filtre sayısı, Girdi Yüksekliği, Girdi Genişliği, Kanal Sayısı]\n",
    "\n",
    "Format belirledikten sonra veri seti test,cross_Validation ve train olarak ayrılır."
   ]
  },
  {
   "cell_type": "code",
   "execution_count": 2,
   "metadata": {
    "colab": {
     "autoexec": {
      "startup": false,
      "wait_interval": 0
     }
    },
    "colab_type": "code",
    "id": "Oa6ZwwyaDjyk"
   },
   "outputs": [],
   "source": [
    "input_shape = [None, 28, 28, 1]\n",
    "number_of_classes = 10\n",
    "\n",
    "# Hiper Parametreler\n",
    "learning_rate = 0.01\n",
    "epoch = 10\n",
    "batch_size = 128"
   ]
  },
  {
   "cell_type": "code",
   "execution_count": 3,
   "metadata": {
    "colab": {
     "autoexec": {
      "startup": false,
      "wait_interval": 0
     },
     "base_uri": "https://localhost:8080/",
     "height": 51
    },
    "colab_type": "code",
    "executionInfo": {
     "elapsed": 11356,
     "status": "ok",
     "timestamp": 1525425665985,
     "user": {
      "displayName": "Zeki Kuş",
      "photoUrl": "https://lh3.googleusercontent.com/a/default-user=s128",
      "userId": "113800785453624523681"
     },
     "user_tz": -180
    },
    "id": "uC0osL0xDt4z",
    "outputId": "18fa23a0-c230-4c32-e2dc-b8211deff519"
   },
   "outputs": [
    {
     "name": "stdout",
     "output_type": "stream",
     "text": [
      "Training data shape: (60000, 785)\n",
      "Test data shape: (10000, 785)\n"
     ]
    }
   ],
   "source": [
    "# Eğitim ve Test Verisi\n",
    "# Data Website:https://www.kaggle.com/yufengg/fashion-mnist/data\n",
    "train_data = pd.read_csv('dataset/fashion-mnist_train.csv')\n",
    "test_data = pd.read_csv('dataset/fashion-mnist_test.csv')\n",
    "\n",
    "print(\"Training data shape: {}\".format(train_data.shape))\n",
    "print(\"Test data shape: {}\".format(test_data.shape))"
   ]
  },
  {
   "cell_type": "markdown",
   "metadata": {},
   "source": [
    "## 3 - Dataset Information\n",
    "\n",
    "Fashion-MNIST veri seti 28x28 boyutunda, gri tonlamalı 70.000 adet moda ürününden oluşan 10\n",
    "sınıflık bir veri setidir. Her kategori için 7.000 resim vardır. Eğitim için 60.000, test için 10.000\n",
    "resim bulunmaktadır. MNIST el yazısı rakamları(Handwritten) veri setinin günümüzde kullanılan\n",
    "konvolüsyonel sinir ağları için kolay tahmin edilebilir olması ve yüksek doğruluk oranları vermesi yeni\n",
    "veri seti ihtiyacı doğurmuştur. Bu ihtiyacı karşılamak için Zalando giyim markasının web sitesi\n",
    "kullanılarak Fashion-MNIST veri seti oluşturulmuştur.\n",
    "\n",
    "<img src=\"images/fashionMnist.png\" style=\"width:500px;height:300px;\"><br/>\n",
    "<img src=\"images/FashionMnist2.png\" style=\"width:700px;height:700px;\"><br/>\n"
   ]
  },
  {
   "cell_type": "code",
   "execution_count": 5,
   "metadata": {
    "colab": {
     "autoexec": {
      "startup": false,
      "wait_interval": 0
     }
    },
    "colab_type": "code",
    "id": "ZD-0nngyD7PT"
   },
   "outputs": [],
   "source": [
    "#Eğitim verisinin ayrılması\n",
    "train_data_x = train_data.iloc[:, 1:785]\n",
    "train_data_y = train_data.iloc[:, 0:1]\n",
    "\n",
    "#Test verisinin ayrılması\n",
    "test_data_x = test_data.iloc[:, 1:785]\n",
    "test_data_y = test_data.iloc[:, 0:1]"
   ]
  },
  {
   "cell_type": "code",
   "execution_count": 6,
   "metadata": {
    "colab": {
     "autoexec": {
      "startup": false,
      "wait_interval": 0
     }
    },
    "colab_type": "code",
    "id": "zPpLiwaFJLVL"
   },
   "outputs": [],
   "source": [
    "# Eğitim ve test verileri DataFrame yapısında olduğu için Numpy tarafından işlenebilecek matrislere çevrilir.\n",
    "\n",
    "train_x = train_data_x.as_matrix()\n",
    "train_y = train_data_y.as_matrix()\n",
    "\n",
    "test_x = test_data_x.as_matrix()\n",
    "test_y = test_data_y.as_matrix()"
   ]
  },
  {
   "cell_type": "code",
   "execution_count": 9,
   "metadata": {
    "colab": {
     "autoexec": {
      "startup": false,
      "wait_interval": 0
     }
    },
    "colab_type": "code",
    "id": "A-ukfSeEI5Zp"
   },
   "outputs": [],
   "source": [
    "train_x = train_x.reshape(train_x.shape[0], input_shape[1], \n",
    "                          input_shape[2], input_shape[3])\n",
    "test_x = test_x.reshape(test_x.shape[0], input_shape[1], \n",
    "                          input_shape[2], input_shape[3])"
   ]
  },
  {
   "cell_type": "code",
   "execution_count": 10,
   "metadata": {
    "colab": {
     "autoexec": {
      "startup": false,
      "wait_interval": 0
     },
     "base_uri": "https://localhost:8080/",
     "height": 51
    },
    "colab_type": "code",
    "executionInfo": {
     "elapsed": 2353,
     "status": "ok",
     "timestamp": 1525425680994,
     "user": {
      "displayName": "Zeki Kuş",
      "photoUrl": "https://lh3.googleusercontent.com/a/default-user=s128",
      "userId": "113800785453624523681"
     },
     "user_tz": -180
    },
    "id": "u3oPtqdPbrct",
    "outputId": "71bffab0-2f2a-4d8a-8db4-4e481354a11a"
   },
   "outputs": [
    {
     "name": "stdout",
     "output_type": "stream",
     "text": [
      "Number of examples in training set: 55000\n",
      "Number of examples in cross validation set: 5000\n"
     ]
    }
   ],
   "source": [
    "train_x, cv_x, train_y, cv_y = train_test_split(train_x, train_y, \n",
    "                                                test_size = 5000, random_state = 42)\n",
    "\n",
    "print(\"Number of examples in training set: {}\".format(train_x.shape[0]))\n",
    "print(\"Number of examples in cross validation set: {}\".format(cv_x.shape[0]))"
   ]
  },
  {
   "cell_type": "code",
   "execution_count": 11,
   "metadata": {
    "colab": {
     "autoexec": {
      "startup": false,
      "wait_interval": 0
     },
     "base_uri": "https://localhost:8080/",
     "height": 85
    },
    "colab_type": "code",
    "executionInfo": {
     "elapsed": 841,
     "status": "ok",
     "timestamp": 1525425676156,
     "user": {
      "displayName": "Zeki Kuş",
      "photoUrl": "https://lh3.googleusercontent.com/a/default-user=s128",
      "userId": "113800785453624523681"
     },
     "user_tz": -180
    },
    "id": "3_q2jwWxKPKS",
    "outputId": "9743a393-9023-4d70-bfe5-5ac2ece39190"
   },
   "outputs": [
    {
     "name": "stdout",
     "output_type": "stream",
     "text": [
      "Shape of training features: (55000, 28, 28, 1)\n",
      "Shape of training labels: (55000, 10)\n",
      "Shape of testing features: (10000, 28, 28, 1)\n",
      "Shape of testing labels: (10000, 10)\n"
     ]
    }
   ],
   "source": [
    "# Çıktı etiketlerinin one-hot vektöre çevrilmesi\n",
    "train_y = to_categorical(train_y, 10)\n",
    "test_y = to_categorical(test_y, 10)\n",
    "\n",
    "\n",
    "print(\"Shape of training features: {}\".format(train_x.shape))\n",
    "print(\"Shape of training labels: {}\".format(train_y.shape))\n",
    "print(\"Shape of testing features: {}\".format(test_x.shape))\n",
    "print(\"Shape of testing labels: {}\".format(test_y.shape))"
   ]
  },
  {
   "cell_type": "code",
   "execution_count": 20,
   "metadata": {
    "colab": {
     "autoexec": {
      "startup": false,
      "wait_interval": 0
     },
     "base_uri": "https://localhost:8080/",
     "height": 364
    },
    "colab_type": "code",
    "executionInfo": {
     "elapsed": 914,
     "status": "ok",
     "timestamp": 1525425672869,
     "user": {
      "displayName": "Zeki Kuş",
      "photoUrl": "https://lh3.googleusercontent.com/a/default-user=s128",
      "userId": "113800785453624523681"
     },
     "user_tz": -180
    },
    "id": "wU3LriNLEETP",
    "outputId": "df0dc559-9417-4191-c071-7c939fced4be"
   },
   "outputs": [
    {
     "name": "stdout",
     "output_type": "stream",
     "text": [
      "[0. 0. 0. 1. 0. 0. 0. 0. 0. 0.]\n"
     ]
    },
    {
     "data": {
      "text/plain": [
       "<matplotlib.image.AxesImage at 0x7f5cd0918eb8>"
      ]
     },
     "execution_count": 20,
     "metadata": {},
     "output_type": "execute_result"
    },
    {
     "data": {
      "image/png": "[encoded data removed]",
      "text/plain": [
       "<matplotlib.figure.Figure at 0x7f5cd092d6d8>"
      ]
     },
     "metadata": {},
     "output_type": "display_data"
    }
   ],
   "source": [
    "\n",
    "print(test_y[17])\n",
    "plt.imshow(train_x[17,:,:,-1], cmap='Greys')"
   ]
  },
  {
   "cell_type": "markdown",
   "metadata": {},
   "source": [
    "## 4 - Define Functions"
   ]
  },
  {
   "cell_type": "code",
   "execution_count": 0,
   "metadata": {
    "colab": {
     "autoexec": {
      "startup": false,
      "wait_interval": 0
     }
    },
    "colab_type": "code",
    "id": "n-P_BXffKTgA"
   },
   "outputs": [],
   "source": [
    "#Konvolüsyon katmanındaki ilk ağırlıkların standart sapması 0.1 olan normal dağılıma göre ataması yapılır.\n",
    "def init_weights(shape):\n",
    "    init_random_dist = tf.truncated_normal(shape, stddev=0.1)\n",
    "    return tf.Variable(init_random_dist)\n",
    "\n",
    "#Bias değerleri 0.1 olarak atanır.\n",
    "def init_bias(shape):\n",
    "    init_bias_vals = tf.constant(0.1, shape=shape)\n",
    "    return tf.Variable(init_bias_vals)\n",
    "\n",
    "# Maksimum havuzlama işlemini gerçekleştiren fonksiyon tanımlanır.\n",
    "# Parametreler:\n",
    "# Stride: Adım sayısı her zaman 2 olarak seçilmiş. Değiştirilebilir.\n",
    "# ksize: Kernel size, Filter size aynı şey. Filtre boyutu seçilmiş.\n",
    "def normal_full_layer(input_layer, size):\n",
    "    input_size = int(input_layer.get_shape()[1])\n",
    "    W = init_weights([input_size, size])\n",
    "    b = init_bias([size])\n",
    "    return tf.matmul(input_layer, W) + b\n"
   ]
  },
  {
   "cell_type": "markdown",
   "metadata": {},
   "source": [
    "### 4.1 Convolution Layer\n",
    "\n",
    "Bu bölümde konvolüsyon işleminden ve konvolüsyon katmanından bahsedeceğiz. Konvolüsyon katmanı temelde şu adımlardan oluşur:\n",
    "\n",
    "- Belirli bir boyuta sahip girdi alır.\n",
    "- Girdinin her pozisyonuna filtre uygular.\n",
    "- Belirlenen parametrelere göre farklı veya aynı boyutta bir çıktı verir.\n",
    "\n",
    "Konvolüsyon işlemi verilen girdi üzerindeki özellik haritalarının keşfedilmesi için kullanılır. Bu özelliklerin doğru bir şekilde keşfedilmesi için filtre boyutu ve adım sayısı gibi parametreler çok önemlidir.\n",
    "\n",
    " - **Adım Sayısı(Stride):** Filtre adım sayısını belirtir.\n",
    " - **Dış boşluk(Padding):** Filtrele eklenecek dış boşluk sayısını belirtir. Padding genel olarak girdi ile çıktı boyutunun aynı olmasının istendiği durumlarda eklenir.\n",
    " - Son olarakta filtre boyutu belirlenir.\n",
    " \n",
    "**Bu Parametreler Nasıl Seçilmeli:** Konvolüsyon katmanında seçilen parametreler sonucu doğrudan etkilemektedir. Adım sayısının ve filtre boyutunun büyük seçilmesi, girdi üzerindeki birçok özelliğin kaybedilmesine neden olabilir. Aynı zamanda adım sayısı ve filtre boyutunun küçük seçilmesi özelliklerin yakalanmasını sağlayabilir fakat hesaplama süresini ve işlem yükünü arttırabilir. Bu nedenlerden dolayı bu parametrelerin doğru bir şekilde seçilmesi çok önemlidir.\n",
    "\n",
    "Aşağıdaki şekilde tek kanaldan oluşan bir girdi için konvolüsyon işlemi gösterilmektedir.\n",
    "\n",
    "<img src=\"images/Convolution_schematic.gif\" style=\"width:400px;height:300px;\">\n",
    "\n",
    "Aşağıdaki şekilde kanal sayısı 3 olan bir girdi üzerine 3x3x3 boyutunda bir filtre uygulanması sonucu elde edilen\n",
    "3x3x2 boyutunda çıktı görülmektedir. Çıktı boyutuna bakıldığında, 3-> genişlik, 3->yükseklik ve 2->filtre sayısını temsil etmektedir\n",
    "\n",
    "<img src=\"images/1.gif\" style=\"width:600px;height:400px;\">\n",
    "<img src=\"images/rgb.gif\" style=\"width:600px;height:400px;\">\n",
    "\n",
    "\n",
    "**Hatırlatıcı:**\n",
    "    Konvolüsyon işleminden sonra elde edilecek çıktıların boyutu şu işlemlere göre hesaplanır:\n",
    "    $$ n_H = \\lfloor \\frac{n_{H_{prev}} - f + 2 \\times pad}{stride} \\rfloor +1 $$\n",
    "    $$ n_W = \\lfloor \\frac{n_{W_{prev}} - f + 2 \\times pad}{stride} \\rfloor +1 $$\n",
    "    $$ n_C = \\text{Konvolüsyonda kullanılan filtre sayısı}$$\n",
    "    \n",
    "### 4.2 Rectifier Linear Unit (ReLu)\n",
    "- Her konvolüsyon katmanından sonra uygulanır.\n",
    "- Girdi içerisindeki bütün negatif piksel değerlerini, sıfır ile değiştirir.\n",
    "\n",
    "<img src=\"images/relu.png\" style=\"width:300px;height:200px;\">\n",
    "\n",
    "ReLu, tanh ve eş değelerinden birkaç kat daha hızlı çalışır.<br/><br/>\n",
    "ReLu'nun daha iyi olmasının nedeni kabaca doyum noktası olmamasıdır(non-saturating). ReLu aktivasyon fonksiyonu f(x) = max(0,x) şeklinde formüle edilir. Yani bütün değerler [0, +sonsuz] aralığındadır.<br/><br/>\n",
    "Fakat diğer aktivasyon fonksiyonlarına baktığımızda;<br/><br/>\n",
    "Sigmoid = [0,1] aralığına ve tanh = [-1,1] aralığına noktaları indirger. Çok derin sinir ağlarında bu fonksiyonlar belirli bir noktadan sonra doyuma ulaşır. Fakat ReLu'da durum böyle değildir. Bu yüzden tercih edilir."
   ]
  },
  {
   "cell_type": "code",
   "execution_count": null,
   "metadata": {},
   "outputs": [],
   "source": [
    "# Konvolüsyon işlemini gerçekleştiren fonksiyon tanımlanır.\n",
    "# Parametreler:\n",
    "# Stride: Adım sayısı her zaman 1 olarak seçilmiş. Değiştirilebilir.\n",
    "# Padding: SAME olarak seçilmiş. Yani konvolüsyon işlemi uygulandıktan sonra çıktı boyutu küçülmeyecek.\n",
    "# Girdi ve çıktı boyutu aynı kalacak. Resim boyutu küçük olduğu için kullanıldı.\n",
    "def conv2d(x, W):\n",
    "    return tf.nn.conv2d(x, W, strides=[1, 1, 1, 1], padding='SAME')\n",
    "\n",
    "    \n",
    "# Konvolüsyon katmanı işlemleri gerçekleştirilir.\n",
    "# Konvolüsyon -> ReLu\n",
    "def convolutional_layer(input_x, shape):\n",
    "    W = init_weights(shape)\n",
    "    b = init_bias([shape[3]])\n",
    "    return tf.nn.relu(conv2d(input_x, W) + b)\n",
    "\n",
    "# Alternatif olarak Tensorflow son versiyon ile gelen fonksiyon kullanılabilir. \"nn.conv2d\" ve \"layers.conv2d\"\n",
    "# neredeyse aynıdır. Fakat \"layers.conv2d\" yapılandırıcısı çok daha fazla parametreye sahiptir ve daha esnektir.\n",
    "tf.layers.conv2d(inputs=x,filters=32, kernel_size = [3,3], padding=\"same\", activation=tf.nn.relu)\n"
   ]
  },
  {
   "cell_type": "markdown",
   "metadata": {},
   "source": [
    "### 4.3 Pooling Layer\n",
    "Havuzlama(Pooling) katmanı, girdinin yüksekliğini ve genişliğini azaltır. Hesaplama yükünü azaltmaya yardımcı olur. Sıklıkla kullanılan iki tür havuzlama(pooling) yöntemi vardır:\n",
    "\n",
    "- **Max-pooling layer:** Maksimum havuzlama yönteminde, belirli bir adım değerine(stride) göre havuzlama filtresi girdi üzerinde dolaşır ve girdi üzerinde filtrenin bulunduğu alana karşılık gelen kısım içerisindeki maksimum değeri, çıktıda karşılık gelen alana yerleştirir.\n",
    "- **Average-pooling layer:** Aynı işlem ortalama havuzlama işlemi için de geçerlidir. Fakat bu sefer maksimum eleman yerine girdide filtrenin bulunduğu alana karşılık gelen kısımdaki değerlerin ortalaması çıktı olarak verilir.\n",
    "<img src=\"images/Stride_2_Max_Avg_Pooling.png\" style=\"width:600px;height:300px;\"><br/>\n",
    "<img src=\"images/pooling.gif\" style=\"width:400px;height:200px;\">\n",
    "\n",
    "**Hatırlatıcı:**\n",
    "    Dış boşluk(padding) olmadığı için havuzlama işlemi sonrası elde edilecek çıktı boyutu aşağıdaki formüllere göre hesaplanır. Dikkat edilirse havuzlama işleminden sonra kanal sayısı değişmemektedir. Ayrıca konvolüsyon katmanından farklı olarak havuzlama katmanından öğrenilmesi gereken bir parametre yoktur. Sadece adım sayısı ve filtre boyutu belirlenir. Konvolüsyon işleminde ise filtre katsayıları belirli bir öğrenme algoritmasına göre öğrenilip, güncellenir.\n",
    "    $$ n_H = \\lfloor \\frac{n_{H_{prev}} - f}{stride} \\rfloor +1 $$\n",
    "    $$ n_W = \\lfloor \\frac{n_{W_{prev}} - f}{stride} \\rfloor +1 $$\n",
    "    $$ n_C = n_{C_{prev}}$$"
   ]
  },
  {
   "cell_type": "code",
   "execution_count": null,
   "metadata": {},
   "outputs": [],
   "source": [
    "# Maksimum havuzlama işlemini gerçekleştiren fonksiyon tanımlanır.\n",
    "# Parametreler:\n",
    "# Stride: Adım sayısı her zaman 2 olarak seçilmiş. Değiştirilebilir.\n",
    "# ksize: Kernel size, Filter size aynı şey. Filtre boyutu seçilmiş.\n",
    "def max_pool_2by2(x):\n",
    "    return tf.nn.max_pool(x, ksize=[1, 2, 2, 1],strides=[1, 2, 2, 1])\n",
    "\n",
    "# Alternatif\n",
    "tf.layers.max_pooling2d(inputs=convo_2, pool_size=[2, 2], strides=2)"
   ]
  },
  {
   "cell_type": "markdown",
   "metadata": {},
   "source": [
    "### 4.4 Fully Connected Layer\n",
    "\n",
    "Çok katmanlı yapay sinir ağlarında olduğu gibi birbirlerine tamamen bağlı olan nöronları içerir. Daha önceki katmanda öğrenilen özelliklere göre girdinin sınıflandırılması yapılır. \n",
    "\n",
    "<img src=\"images/fully_connected.png\" style=\"width:600px;height:300px;\">"
   ]
  },
  {
   "cell_type": "code",
   "execution_count": null,
   "metadata": {},
   "outputs": [],
   "source": [
    "# Tam Bağlantılı Katman fonksiyonu oluşturulur.\n",
    "def normal_full_layer(input_layer, size):\n",
    "    input_size = int(input_layer.get_shape()[1])\n",
    "    W = init_weights([input_size, size])\n",
    "    b = init_bias([size])\n",
    "    return tf.matmul(input_layer, W) + b\n",
    "\n",
    "# Alternatif\n",
    "tf.layers.dense(inputs=flatten, units = 512, activation=tf.nn.relu)"
   ]
  },
  {
   "cell_type": "markdown",
   "metadata": {},
   "source": [
    "## 5 - Create Model"
   ]
  },
  {
   "cell_type": "code",
   "execution_count": 0,
   "metadata": {
    "colab": {
     "autoexec": {
      "startup": false,
      "wait_interval": 0
     }
    },
    "colab_type": "code",
    "id": "ao51xeT6KoCY"
   },
   "outputs": [],
   "source": [
    "#Tensorflow Graph Oluşturulması\n",
    "\n",
    "# Graph Reset\n",
    "tf.reset_default_graph()\n",
    "\n",
    "# Placeholder tanımlama\n",
    "x = tf.placeholder(tf.float32,shape=[None,28,28,1])\n",
    "y_true = tf.placeholder(tf.float32,shape=[None,10])\n",
    "train_mode = tf.placeholder(tf.bool)\n",
    "\n",
    "config = tf.ConfigProto(allow_soft_placement=True)\n",
    "config.gpu_options.allow_growth = True\n",
    "config.gpu_options.allocator_type = 'BFC'\n",
    "\n",
    "with tf.name_scope('Model'):\n",
    "    #Convolutional Layer 1 + RELU\n",
    "    convo_1 = tf.layers.conv2d(inputs=x,filters=32, kernel_size = [5,5], padding=\"same\", activation=tf.nn.relu)\n",
    "    #Pooling Layer 1\n",
    "    convo_1_pooling = tf.layers.max_pooling2d(inputs=convo_1, pool_size=[2, 2], strides=2)\n",
    "    #Convolutional Layer 2 + RELU\n",
    "    convo_2 = tf.layers.conv2d(inputs=convo_1_pooling,filters=64, kernel_size = [5,5], padding=\"same\", activation=tf.nn.relu)\n",
    "    #Pooling Layer 2\n",
    "    convo_2_pooling = tf.layers.max_pooling2d(inputs=convo_2, pool_size=[2, 2], strides=2)\n",
    "    #Flattening\n",
    "    convo_2_flat = tf.reshape(convo_2_pooling,[-1,7*7*64])\n",
    "    #Fully Connected 1 + RELU\n",
    "    full_layer_one = tf.layers.dense(inputs=convo_2_flat, units = 1024, activation=tf.nn.relu)\n",
    "    #Dropout Layer 1\n",
    "    full_one_dropout = tf.layers.dropout(full_layer_one,rate=0.2, training= train_mode)\n",
    "    #Output Layer\n",
    "    y_pred = tf.layers.dense(inputs=full_one_dropout,units=10)\n",
    "\n",
    "#Loss function\n",
    "with tf.name_scope('Loss'):\n",
    "    loss = tf.losses.softmax_cross_entropy(y_true, y_pred)\n",
    "\n",
    "#Optimizer Function\n",
    "with tf.name_scope('ADAM'):\n",
    "     train_op = tf.train.AdamOptimizer(learning_rate=0.01).minimize(loss)\n",
    "\n",
    "#Defining Accuracy\n",
    "with tf.name_scope('Accuracy'):\n",
    "    accuracy = tf.reduce_mean(tf.cast(tf.equal(tf.argmax(y_pred, 1), tf.argmax(y_true, 1)), tf.float32))"
   ]
  },
  {
   "cell_type": "code",
   "execution_count": 30,
   "metadata": {
    "colab": {
     "autoexec": {
      "startup": false,
      "wait_interval": 0
     },
     "base_uri": "https://localhost:8080/",
     "height": 238
    },
    "colab_type": "code",
    "executionInfo": {
     "elapsed": 77489,
     "status": "ok",
     "timestamp": 1525426284461,
     "user": {
      "displayName": "Zeki Kuş",
      "photoUrl": "https://lh3.googleusercontent.com/a/default-user=s128",
      "userId": "113800785453624523681"
     },
     "user_tz": -180
    },
    "id": "acCVNzmsrrdy",
    "outputId": "4a2677e7-084d-4694-eabd-8345cfed998e"
   },
   "outputs": [
    {
     "name": "stdout",
     "output_type": "stream",
     "text": [
      "Training:Start\n",
      "Epoch: 1 Cost: 5.577052316604516 accuracy: 0.81015625 \n",
      "Epoch: 2 Cost: 0.42855561620149857 accuracy: 0.8660924286343331 \n",
      "Epoch: 3 Cost: 0.4011812515747853 accuracy: 0.8741774577041005 \n",
      "Epoch: 4 Cost: 0.3845257364508711 accuracy: 0.880947740549265 \n",
      "Epoch: 5 Cost: 0.38129384961578394 accuracy: 0.8835623678772948 \n",
      "Epoch: 6 Cost: 0.3676989783287604 accuracy: 0.887513213518054 \n",
      "Epoch: 7 Cost: 0.37551678956805407 accuracy: 0.8886231501435125 \n",
      "Epoch: 8 Cost: 0.3687285174787183 accuracy: 0.8897760306679925 \n",
      "Epoch: 9 Cost: 0.3910354154579567 accuracy: 0.8859705338644427 \n",
      "Epoch: 10 Cost: 0.40267761888759673 accuracy: 0.8849976876447367 \n",
      "Cross validation loss: 0.4488774538040161 accuracy: 0.8532000184059143\n",
      "Test set accuracy 0.8640999794006348\n"
     ]
    }
   ],
   "source": [
    "with tf.Session(config=config) as sess:\n",
    "    sess.run(tf.global_variables_initializer())\n",
    "    \n",
    "    total_size = train_x.shape[0]\n",
    "    number_of_batches = int(total_size/batch_size)\n",
    "    \n",
    "    print(\"Training:Start\")\n",
    "    for e in range(epoch):\n",
    "        epoch_cost = 0\n",
    "        epoch_accuracy = 0\n",
    "        for i in range(number_of_batches):\n",
    "            mini_x = train_x[i*batch_size:(i+1)*batch_size, :, :, :]\n",
    "            mini_y = train_y[i*batch_size:(i+1)*batch_size, :]\n",
    "            _, cost = sess.run([train_op,loss], feed_dict={x:mini_x, y_true:mini_y,train_mode:True})\n",
    "            train_accuracy = sess.run(accuracy, feed_dict={x:mini_x, y_true:mini_y,train_mode:False})\n",
    "            epoch_cost += cost\n",
    "            epoch_accuracy += train_accuracy\n",
    "        \n",
    "        # Batch sayısının tam sayı olmadığı durumlarda kullanılır.\n",
    "        if total_size % batch_size != 0:\n",
    "            mini_x = train_x[number_of_batches*batch_size:total_size, :, :, :]\n",
    "            mini_y = train_y[number_of_batches*batch_size:total_size, :]\n",
    "            _, cost = sess.run([train_op, loss], feed_dict={x:mini_x, y_true:mini_y, train_mode:True})\n",
    "            train_accuracy = sess.run(accuracy, feed_dict={x:mini_x,y_true:mini_y, train_mode:False})\n",
    "            epoch_cost += cost\n",
    "            epoch_accuracy += train_accuracy\n",
    "        \n",
    "        epoch_cost /= number_of_batches\n",
    "        \n",
    "        if total_size % batch_size != 0:\n",
    "            epoch_accuracy /= (number_of_batches+1)\n",
    "        else:\n",
    "            epoch_accuracy /= number_of_batches\n",
    "        print(\"Epoch: {} Cost: {} accuracy: {} \".format(e+1, np.squeeze(epoch_cost), epoch_accuracy))\n",
    "    \n",
    "    # Cross-validation loss ve accuracy değerleri\n",
    "    cv_loss, cv_accuracy = sess.run([loss, accuracy], {x:cv_x, y_true:cv_y, train_mode: False})\n",
    "    print(\"Cross validation loss: {} accuracy: {}\".format(np.squeeze(cv_loss), cv_accuracy))\n",
    "    \n",
    "    # Test Veri seti accuracy değeri\n",
    "    test_accuracy = sess.run(accuracy,{x:test_x, y_true:test_y,train_mode:False})\n",
    "    print(\"Test set accuracy {}\".format(test_accuracy))"
   ]
  },
  {
   "cell_type": "markdown",
   "metadata": {
    "colab": {
     "autoexec": {
      "startup": false,
      "wait_interval": 0
     }
    },
    "colab_type": "code",
    "id": "Zl_PVLv4ruYG"
   },
   "source": [
    "### Veriler normalize edilmeden(Non-Scaling) ve normalize edildikten(Scaling) sonra ağın eğitilmesiyle elde edilen başarı oranları:\n",
    "\n",
    "<img src=\"images/Scaling_Plot.png\" style=\"width:500px;height:400px;\">"
   ]
  },
  {
   "cell_type": "code",
   "execution_count": null,
   "metadata": {},
   "outputs": [],
   "source": []
  }
 ],
 "metadata": {
  "accelerator": "GPU",
  "colab": {
   "collapsed_sections": [],
   "default_view": {},
   "name": "FashionMNIST.ipynb",
   "provenance": [],
   "version": "0.3.2",
   "views": {}
  },
  "kernelspec": {
   "display_name": "Python 3",
   "language": "python",
   "name": "python3"
  },
  "language_info": {
   "codemirror_mode": {
    "name": "ipython",
    "version": 3
   },
   "file_extension": ".py",
   "mimetype": "text/x-python",
   "name": "python",
   "nbconvert_exporter": "python",
   "pygments_lexer": "ipython3",
   "version": "3.6.4"
  }
 },
 "nbformat": 4,
 "nbformat_minor": 1
}
